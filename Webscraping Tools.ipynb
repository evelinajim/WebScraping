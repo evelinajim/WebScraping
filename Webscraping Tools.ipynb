{
 "cells": [
  {
   "cell_type": "markdown",
   "metadata": {},
   "source": [
    "## More Webscraping Functions\n"
   ]
  },
  {
   "cell_type": "code",
   "execution_count": 3,
   "metadata": {},
   "outputs": [],
   "source": [
    "headers = {'user-agent': 'CSC-301,Bam,Eve Jimenez'}"
   ]
  },
  {
   "cell_type": "code",
   "execution_count": 4,
   "metadata": {},
   "outputs": [],
   "source": [
    "import requests\n",
    "from bs4 import BeautifulSoup\n",
    "page = requests.get('https://en.wikipedia.org/wiki/Eastern_Connecticut_State_University', headers = headers)\n",
    "soup = BeautifulSoup(page.content)"
   ]
  },
  {
   "cell_type": "code",
   "execution_count": 5,
   "metadata": {},
   "outputs": [
    {
     "data": {
      "text/plain": [
       "'Eastern Connecticut State University'"
      ]
     },
     "execution_count": 5,
     "metadata": {},
     "output_type": "execute_result"
    }
   ],
   "source": [
    "soup.h1.text"
   ]
  },
  {
   "cell_type": "code",
   "execution_count": 6,
   "metadata": {},
   "outputs": [
    {
     "name": "stdout",
     "output_type": "stream",
     "text": [
      "Contents\n",
      "History\n",
      "Academics\n",
      "Institute for Sustainable Energy\n",
      "Housing\n",
      "Student organizations\n",
      "Athletics\n",
      "Campus\n",
      "Notable alumni\n",
      "See also\n",
      "References\n",
      "External links\n",
      "Navigation menu\n"
     ]
    }
   ],
   "source": [
    "\"\"\" Get the headers \"\"\"\n",
    "h=soup.find_all(\"h2\")\n",
    "\n",
    "for h2 in h:\n",
    "    h2t = h2.text\n",
    "    h2t = h2t.replace('[edit]','')\n",
    "    print(h2t)"
   ]
  },
  {
   "cell_type": "code",
   "execution_count": 7,
   "metadata": {},
   "outputs": [
    {
     "data": {
      "text/plain": [
       "17"
      ]
     },
     "execution_count": 7,
     "metadata": {},
     "output_type": "execute_result"
    }
   ],
   "source": [
    "\"\"\" elements within the table \"\"\"\n",
    "table = soup.find('table', {'class':'infobox vcard'})\n",
    "\n",
    "trs = table.find_all('tr')\n",
    "\n",
    "len(trs)"
   ]
  },
  {
   "cell_type": "markdown",
   "metadata": {},
   "source": [
    "## Scraping WIkipedia\n",
    " From the right side of the table get the date the school was established and total number of undergraduate students\n",
    "\n"
   ]
  },
  {
   "cell_type": "code",
   "execution_count": 8,
   "metadata": {},
   "outputs": [
    {
     "name": "stdout",
     "output_type": "stream",
     "text": [
      "Date the university was established: 1889 \n",
      "The total number of undergraduate students: 4,420\n",
      "For integer number of undergraduate students:  4420\n"
     ]
    }
   ],
   "source": [
    "def tr_with_established(elem) :\n",
    "    return elem.name == 'tr' and 'Established' in elem.get_text()\n",
    "\n",
    "soup.find(tr_with_established)\n",
    "\n",
    "year = soup.find(tr_with_established).text\n",
    "year = year.replace('Established','')\n",
    "\n",
    "def tr_with_students(elem) :\n",
    "    return elem.name == 'tr' and 'Undergraduates' in elem.get_text()\n",
    "\n",
    "students = soup.find(tr_with_students).text\n",
    "\n",
    "students = students.replace('Undergraduates','').replace(' (full-time)','')\n",
    "students\n",
    "\n",
    "print(\"Date the university was established: \" + year,\n",
    "     \"\\nThe total number of undergraduate students: \" + students)\n",
    "\n",
    "istudents = int(students.replace(',',''))\n",
    "print(\"For integer number of undergraduate students: \", istudents)\n",
    "\n"
   ]
  },
  {
   "cell_type": "markdown",
   "metadata": {},
   "source": [
    "### Multiple Wikis"
   ]
  },
  {
   "cell_type": "code",
   "execution_count": 11,
   "metadata": {},
   "outputs": [
    {
     "name": "stdout",
     "output_type": "stream",
     "text": [
      "['Eastern', 'Southern', 'Western', 'Central'] [4420, 8496, 5952, 9546]\n"
     ]
    }
   ],
   "source": [
    "school_links = ['https://en.wikipedia.org/wiki/Eastern_Connecticut_State_University', \n",
    "                'https://en.wikipedia.org/wiki/Southern_Connecticut_State_University',\n",
    "                'https://en.wikipedia.org/wiki/Western_Connecticut_State_University',\n",
    "                'https://en.wikipedia.org/wiki/Central_Connecticut_State_University']\n",
    "\n",
    "import time\n",
    "schools=[]\n",
    "undergradstu = []\n",
    "for a in school_links:\n",
    "    page = requests.get(a)\n",
    "\n",
    "    if page.status_code != requests.codes.ok :\n",
    "        print(\"Request was not successful, status code:\", page.status_code)\n",
    "        print(\"Hit enter to continue...\")\n",
    "        input()\n",
    "        exit()    \n",
    "    soup = BeautifulSoup(page.content, 'html.parser')\n",
    "    schools.append(soup.h1.text)\n",
    "    undergradstu.append(soup.find(tr_with_students).text)\n",
    "    time.sleep(1)\n",
    "\n",
    "\n",
    "nickname = []\n",
    "for i in schools:\n",
    "    newer = i.split(\" \")\n",
    "    nickname.append(newer[0])\n",
    "\n",
    "\n",
    "underg=[]\n",
    "for stu in undergradstu:\n",
    "    undergradstu = int(stu.replace('Undergraduates','').replace(' (full-time)','').replace(',',''))\n",
    "    underg.append(undergradstu)\n",
    "    \n",
    "print(nickname, underg)"
   ]
  },
  {
   "cell_type": "markdown",
   "metadata": {},
   "source": [
    "### Panda dataframe"
   ]
  },
  {
   "cell_type": "code",
   "execution_count": 13,
   "metadata": {},
   "outputs": [
    {
     "data": {
      "text/plain": [
       "Text(0, 0.5, 'Number of Students')"
      ]
     },
     "execution_count": 13,
     "metadata": {},
     "output_type": "execute_result"
    },
    {
     "data": {
      "image/png": "[encoded data removed]",
      "text/plain": [
       "<Figure size 432x288 with 1 Axes>"
      ]
     },
     "metadata": {
      "needs_background": "light"
     },
     "output_type": "display_data"
    }
   ],
   "source": [
    "import pandas as pd\n",
    "\n",
    "# run it again if it doesn't work\n",
    "\n",
    "df= pd.DataFrame(data = {\"School_Name\":nickname, \"Students\":underg})\n",
    "df\n",
    "\n",
    "plt = df.plot.bar(x = \"School_Name\", y = \"Students\", \n",
    "            title = \"Amount of Students in each Connecticut State University\",\n",
    "            legend = False, rot = 0.0)\n",
    "\n",
    "plt.set_xlabel(\"University\")\n",
    "plt.set_ylabel(\"Number of Students\")"
   ]
  },
  {
   "cell_type": "markdown",
   "metadata": {},
   "source": [
    "## Scrape the university catalog\n",
    "\n",
    "Enter a computer science course \n",
    "Example: 'CSC' (If this is done it gets all the courses)\n",
    "<p>\n",
    "'CSC 2' (This gets all the courses that are 200)\n",
    "            </p><p>\n",
    "    'CSC 201' (Gets the specific course)</p>"
   ]
  },
  {
   "cell_type": "code",
   "execution_count": 20,
   "metadata": {},
   "outputs": [],
   "source": [
    "page = requests.get('https://ssb-prod.ec.easternct.edu/PROD/bwckctlg.p_display_courses?term_in=999999&one_subj=CSC&sel_subj=&sel_crse_strt=&sel_crse_end=&sel_title=&sel_levl=&sel_schd=&sel_coll=&sel_divs=&sel_dept=&sel_from_cred=&sel_to_cred=&sel_attr=', headers = headers)\n",
    "soup = BeautifulSoup(page.content)"
   ]
  },
  {
   "cell_type": "code",
   "execution_count": 21,
   "metadata": {},
   "outputs": [
    {
     "name": "stdout",
     "output_type": "stream",
     "text": [
      "Enter the name of a course: CSC\n"
     ]
    },
    {
     "data": {
      "text/plain": [
       "['CSC 100 - Computer Concepts',\n",
       " 'CSC 101 - Intro to Computer Science',\n",
       " 'CSC 110 - Intro to Computing/Prob Solv',\n",
       " 'CSC 180 - Fundamentals of Computing',\n",
       " 'CSC 1XX - Computer Science Elective',\n",
       " 'CSC 200 - Management Systems',\n",
       " 'CSC 201 - Intro To Mechtronics w/Labview',\n",
       " 'CSC 202 - Intro to Prog/Machine Intel',\n",
       " 'CSC 203 - Adv Programming/Data Science',\n",
       " 'CSC 210 - Computer Sci And Programming I',\n",
       " 'CSC 212 - Comp. Game Design & Visualizat',\n",
       " 'CSC 215 - Intro To Web Development',\n",
       " 'CSC 220 - Visualizing for VisualThinking',\n",
       " 'CSC 225 - Human-Comp Interaction & Appl.',\n",
       " 'CSC 230 - Discrete Math for Computer Sci',\n",
       " 'CSC 231 - Computer Sci And Program II',\n",
       " 'CSC 249 - Visual Basic.NET',\n",
       " 'CSC 250 - Applied Computing In Education',\n",
       " 'CSC 251 - Net-centric Computing',\n",
       " 'CSC 259 - Adv Programming In Visual Bsic',\n",
       " 'CSC 269 - Topics In Computer Languages',\n",
       " 'CSC 270 - Data Structures',\n",
       " 'CSC 2XX - Computer Science Elective',\n",
       " 'CSC 301 - Adv Web Develop & Scraping',\n",
       " 'CSC 305 - Data Mining and Applications',\n",
       " 'CSC 310 - Assembly Language',\n",
       " 'CSC 311 - Computer & Video Games Develop',\n",
       " 'CSC 312 - Computer Graphics',\n",
       " 'CSC 314 - Introduction to Bioinformatics',\n",
       " 'CSC 315 - Genomic Data Analysis',\n",
       " 'CSC 320 - Computer Organiz And Architect',\n",
       " 'CSC 325 - Intro To Theory Of Computing',\n",
       " 'CSC 330 - Data Structures and Algorithms',\n",
       " 'CSC 332 - Intro Modeling and Simulation',\n",
       " 'CSC 335 - Computer Algorithms',\n",
       " 'CSC 337 - Computer Networks/Dist Process',\n",
       " 'CSC 338 - Lans/Mans/Internetwking',\n",
       " 'CSC 339 - Network Management/Administn',\n",
       " 'CSC 340 - Program Lang And Translations',\n",
       " 'CSC 341 - Database And Info Management',\n",
       " 'CSC 342 - Advanced Database Systems',\n",
       " 'CSC 343 - Big Data Programming/Mgmt',\n",
       " 'CSC 347 - Embedded Micro-Controllers',\n",
       " 'CSC 350 - Numerical Analysis',\n",
       " 'CSC 351 - Signals And Systems',\n",
       " 'CSC 352 - Digital Signal Processing',\n",
       " 'CSC 353 - Introduction To Wavelets',\n",
       " 'CSC 355 - Digital Logic Lecture',\n",
       " 'CSC 358 - Parallel Processing',\n",
       " 'CSC 360 - Topics In Computer Science',\n",
       " 'CSC 365 - Advanced Digital Logic',\n",
       " 'CSC 370 - System Programming',\n",
       " 'CSC 375 - Artificial Intelligence',\n",
       " 'CSC 380 - Mobile Computing & Programming',\n",
       " 'CSC 385 - Software Engin And Prof Pract',\n",
       " 'CSC 3XX - Computer Science Elective',\n",
       " 'CSC 401 - Networking & Dist Computing',\n",
       " 'CSC 410 - Client/Server Computing',\n",
       " 'CSC 420 - Microprocessors',\n",
       " 'CSC 430 - Computability And Automata',\n",
       " 'CSC 440 - Operating Systems',\n",
       " 'CSC 445 - Software Engineering',\n",
       " 'CSC 450 - Senior Research',\n",
       " 'CSC 455 - Comp System Performance Eval',\n",
       " 'CSC 456 - Advanced Software Development',\n",
       " 'CSC 461 - Comp Educ Primary Level (LOGO)',\n",
       " 'CSC 462 - Comp Educ Secondary Level',\n",
       " 'CSC 463 - Topics In Computer Graphics',\n",
       " 'CSC 464 - Structured Computer Language',\n",
       " 'CSC 465 - Topics Formal Language Theory',\n",
       " 'CSC 466 - Topics Distributed Databases',\n",
       " 'CSC 467 - Topics In Applied Mathematics',\n",
       " 'CSC 468 - Topics Adv Data Processing',\n",
       " 'CSC 469 - Topics In Technology',\n",
       " 'CSC 475 - Intelligent Systems',\n",
       " 'CSC 480 - Independent Study',\n",
       " 'CSC 485 - Internship in College Teaching',\n",
       " 'CSC 490 - Computer Internship',\n",
       " 'CSC 491 - Computer Internship',\n",
       " 'CSC 499 - Internship In College Teaching',\n",
       " 'CSC 4XX - Computer Science Elective']"
      ]
     },
     "execution_count": 21,
     "metadata": {},
     "output_type": "execute_result"
    }
   ],
   "source": [
    "newentry = input(\"Enter the name of a course: \").upper()\n",
    "\n",
    "classes = soup.find_all('td',{'class':'nttitle'})\n",
    "c=[]\n",
    "for i in classes:\n",
    "    c.append(i.text)\n",
    "compsci=[]\n",
    "\n",
    "for j in c:\n",
    "    if newentry in j:\n",
    "        compsci.append(j)\n",
    "\n",
    "compsci"
   ]
  },
  {
   "cell_type": "markdown",
   "metadata": {},
   "source": [
    "## Coronvirus Website Scraping\n",
    "\n",
    "Pull data from the table"
   ]
  },
  {
   "cell_type": "code",
   "execution_count": 22,
   "metadata": {},
   "outputs": [
    {
     "data": {
      "text/plain": [
       "'Updated May 7, 2020, 6:50 P.M. E.T.'"
      ]
     },
     "execution_count": 22,
     "metadata": {},
     "output_type": "execute_result"
    }
   ],
   "source": [
    "page = requests.get('https://www.nytimes.com/interactive/2020/us/coronavirus-us-cases.html', headers = headers)\n",
    "soup = BeautifulSoup(page.content)\n",
    "\n",
    "#Last Updated\n",
    "\n",
    "soup.find('time',{'class':'css-wcxsge'}).text"
   ]
  },
  {
   "cell_type": "code",
   "execution_count": 23,
   "metadata": {},
   "outputs": [
    {
     "ename": "AttributeError",
     "evalue": "'NoneType' object has no attribute 'find_all'",
     "output_type": "error",
     "traceback": [
      "\u001b[1;31m---------------------------------------------------------------------------\u001b[0m",
      "\u001b[1;31mAttributeError\u001b[0m                            Traceback (most recent call last)",
      "\u001b[1;32m<ipython-input-23-000b923d0a59>\u001b[0m in \u001b[0;36m<module>\u001b[1;34m\u001b[0m\n\u001b[0;32m      4\u001b[0m \u001b[1;33m\u001b[0m\u001b[0m\n\u001b[0;32m      5\u001b[0m \u001b[0mcasetable\u001b[0m \u001b[1;33m=\u001b[0m \u001b[0msoup\u001b[0m\u001b[1;33m.\u001b[0m\u001b[0mfind\u001b[0m\u001b[1;33m(\u001b[0m\u001b[1;34m'table'\u001b[0m\u001b[1;33m,\u001b[0m \u001b[1;33m{\u001b[0m\u001b[1;34m'class'\u001b[0m\u001b[1;33m:\u001b[0m\u001b[1;34m'svelte-8im85e'\u001b[0m\u001b[1;33m}\u001b[0m\u001b[1;33m)\u001b[0m\u001b[1;33m\u001b[0m\u001b[1;33m\u001b[0m\u001b[0m\n\u001b[1;32m----> 6\u001b[1;33m \u001b[0mctrs\u001b[0m\u001b[1;33m=\u001b[0m\u001b[0mcasetable\u001b[0m\u001b[1;33m.\u001b[0m\u001b[0mfind_all\u001b[0m\u001b[1;33m(\u001b[0m\u001b[1;34m'tr'\u001b[0m\u001b[1;33m)\u001b[0m\u001b[1;33m\u001b[0m\u001b[1;33m\u001b[0m\u001b[0m\n\u001b[0m\u001b[0;32m      7\u001b[0m \u001b[1;33m\u001b[0m\u001b[0m\n\u001b[0;32m      8\u001b[0m \u001b[1;33m\u001b[0m\u001b[0m\n",
      "\u001b[1;31mAttributeError\u001b[0m: 'NoneType' object has no attribute 'find_all'"
     ]
    }
   ],
   "source": [
    "#They changed the website\n",
    "\n",
    "soup.prettify\n",
    "state=[]\n",
    "cases=[]\n",
    "\n",
    "casetable = soup.find('table', {'class':'svelte-8im85e'})\n",
    "ctrs=casetable.find_all('tr')\n",
    "\n",
    "\n",
    "for rows in ctrs[1::] :\n",
    "    state.append(rows.find('td',{'class':'state svelte-8im85e'}).text)\n",
    "    cases.append(int(rows.find('td',{'class':'cases svelte-8im85e'}).text.replace(',',''))) #changes to integer\n",
    "\n",
    "cases = cases[0:10]\n",
    "\n",
    "newstate=[]\n",
    "for n in state:\n",
    "    a = n.replace(\"+ \\n\",'').replace(\"MAP »\",'')  \n",
    "    newstate.append(a.strip())\n",
    "newstate = newstate[0:10]\n",
    "print(newstate,cases)"
   ]
  },
  {
   "cell_type": "code",
   "execution_count": 24,
   "metadata": {},
   "outputs": [
    {
     "ename": "NameError",
     "evalue": "name 'newstate' is not defined",
     "output_type": "error",
     "traceback": [
      "\u001b[1;31m---------------------------------------------------------------------------\u001b[0m",
      "\u001b[1;31mNameError\u001b[0m                                 Traceback (most recent call last)",
      "\u001b[1;32m<ipython-input-24-8267f28788bf>\u001b[0m in \u001b[0;36m<module>\u001b[1;34m\u001b[0m\n\u001b[0;32m      2\u001b[0m \u001b[1;31m#if only text shows up for the first run, run it again\u001b[0m\u001b[1;33m\u001b[0m\u001b[1;33m\u001b[0m\u001b[1;33m\u001b[0m\u001b[0m\n\u001b[0;32m      3\u001b[0m \u001b[1;33m\u001b[0m\u001b[0m\n\u001b[1;32m----> 4\u001b[1;33m \u001b[0mdf\u001b[0m\u001b[1;33m=\u001b[0m \u001b[0mpd\u001b[0m\u001b[1;33m.\u001b[0m\u001b[0mDataFrame\u001b[0m\u001b[1;33m(\u001b[0m\u001b[0mdata\u001b[0m \u001b[1;33m=\u001b[0m \u001b[1;33m{\u001b[0m\u001b[1;34m\"State\"\u001b[0m\u001b[1;33m:\u001b[0m\u001b[0mnewstate\u001b[0m\u001b[1;33m,\u001b[0m \u001b[1;34m\"Case\"\u001b[0m\u001b[1;33m:\u001b[0m\u001b[0mcases\u001b[0m\u001b[1;33m}\u001b[0m\u001b[1;33m)\u001b[0m\u001b[1;33m\u001b[0m\u001b[1;33m\u001b[0m\u001b[0m\n\u001b[0m\u001b[0;32m      5\u001b[0m \u001b[0mdf\u001b[0m\u001b[1;33m\u001b[0m\u001b[1;33m\u001b[0m\u001b[0m\n\u001b[0;32m      6\u001b[0m \u001b[1;33m\u001b[0m\u001b[0m\n",
      "\u001b[1;31mNameError\u001b[0m: name 'newstate' is not defined"
     ]
    }
   ],
   "source": [
    "import pandas as pd\n",
    "#if only text shows up for the first run, run it again\n",
    "\n",
    "df= pd.DataFrame(data = {\"State\":newstate, \"Case\":cases})\n",
    "df\n",
    "\n",
    "plt = df.plot.bar(x = \"State\", y = \"Case\", \n",
    "            title = \"Top 10 States with the Most Number of Corona Cases\",\n",
    "            legend = False, rot = 0.0)\n",
    "\n",
    "plt.set_xlabel(\"States\")\n",
    "plt.set_ylabel(\"Number of Cases\")"
   ]
  },
  {
   "cell_type": "markdown",
   "metadata": {},
   "source": [
    "## Selenium\n",
    "\n",
    "This automates the process of scheduling an apointment. Person needs to change the calendly person name. That can be an added function I can add to the program to make it more user friendly in the future "
   ]
  },
  {
   "cell_type": "code",
   "execution_count": 25,
   "metadata": {},
   "outputs": [
    {
     "data": {
      "text/plain": [
       "'2020-04'"
      ]
     },
     "execution_count": 25,
     "metadata": {},
     "output_type": "execute_result"
    }
   ],
   "source": [
    "date = '2020-04-10'\n",
    "times = '10:20am'\n",
    "\n",
    "a = date.split('-')\n",
    "month= a[0]+'-'+a[1]\n",
    "month"
   ]
  },
  {
   "cell_type": "markdown",
   "metadata": {},
   "source": [
    "from selenium import webdriver\n",
    "\n",
    "import time\n",
    "from selenium.webdriver.common.keys import Keys\n",
    "\n",
    "driver = webdriver.Firefox(executable_path='C:\\geckodriver.exe')\n",
    "\n",
    "##driver.get(PUT CALENDLY WEBSITE HERE)\n",
    "driver.get(https://calendly.com/[PERSON]/office-hours?month='+month+'&date='+date)\n",
    "\n",
    "wow = driver.find_element_by_xpath(\"//div[button/@data-start-time]\")\n",
    "check = wow.text\n",
    "\n",
    "store = times in check\n",
    "store\n",
    "\n",
    "if store == True:\n",
    "    \n",
    "    wow.click()\n",
    "\n",
    "    confirm = driver.find_element_by_xpath('//button[@data-container=\"confirm-button\"]')\n",
    "    confirm.click()\n",
    "    time.sleep(2)\n",
    "\n",
    "    elem = driver.find_element_by_name(\"full_name\")\n",
    "    elem.send_keys(\"Eve Jimenez\") \n",
    "\n",
    "    elem2 = driver.find_element_by_name(\"email\")\n",
    "    elem2.send_keys(\"jimenezsagasteguib@easternct.edu\")\n",
    "\n",
    "    message= 'Fake appointment for CSC 301, Exam II.'\n",
    "\n",
    "    elem3 = driver.find_element_by_name(\"question_0\")\n",
    "    elem3.send_keys(message)\n",
    "    \n",
    "    submit = driver.find_element_by_xpath('//button[@type=\"submit\"]')\n",
    "    submit.click()\n",
    "    print(\"Successfully scheduled your appointment on: \" + date +\" at \" +times)\n",
    "    driver.close\n",
    "\n",
    "else:\n",
    "    print(\"All appointments at this date/time are booked. Please indicate another time\")\n",
    "    driver.close()\n",
    "    \n"
   ]
  }
 ],
 "metadata": {
  "kernelspec": {
   "display_name": "Python 3",
   "language": "python",
   "name": "python3"
  },
  "language_info": {
   "codemirror_mode": {
    "name": "ipython",
    "version": 3
   },
   "file_extension": ".py",
   "mimetype": "text/x-python",
   "name": "python",
   "nbconvert_exporter": "python",
   "pygments_lexer": "ipython3",
   "version": "3.7.3"
  }
 },
 "nbformat": 4,
 "nbformat_minor": 2
}
