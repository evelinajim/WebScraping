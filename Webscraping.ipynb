{
 "cells": [
  {
   "cell_type": "code",
   "execution_count": 1,
   "metadata": {},
   "outputs": [
    {
     "data": {
      "text/plain": [
       "'Scrape the sample Schedule page (https://gdancik.github.io/CSC301/data/notes/schedule.html) to output the number of courses being taught and\\nthe total number of credits, in the following format:\\nDr. Dancik is teaching 3 courses (9 credits)'"
      ]
     },
     "execution_count": 1,
     "metadata": {},
     "output_type": "execute_result"
    }
   ],
   "source": [
    "\"\"\"Scrape the sample Schedule page to output \n",
    "the number of courses being taught and\n",
    "the total number of credits, in the following format:\n",
    "Dr. Dancik is teaching 3 courses (9 credits)\"\"\""
   ]
  },
  {
   "cell_type": "code",
   "execution_count": 2,
   "metadata": {},
   "outputs": [],
   "source": [
    "from bs4 import BeautifulSoup\n",
    "import requests\n",
    "import pandas as pd\n",
    "import time\n",
    "\n",
    "headers = {\"User-Agent\": \"ProjectBot/1.0 jimenezsagasteguib@easternct.edu\"}\n",
    "\n",
    "page = requests.get('https://gdancik.github.io/CSC-301/data/notes/schedule.html')\n",
    "\n",
    "\n",
    "\n",
    "if page.status_code != requests.codes.ok :\n",
    "    print(\"Request was not successful, status code:\", page.status_code)\n",
    "    print(\"Hit enter to continue...\")\n",
    "    input()\n",
    "    exit()\n",
    "    \n",
    "    "
   ]
  },
  {
   "cell_type": "code",
   "execution_count": 3,
   "metadata": {},
   "outputs": [
    {
     "name": "stdout",
     "output_type": "stream",
     "text": [
      "Dr. Dancik is teaching 4 courses ( 12 )\n"
     ]
    }
   ],
   "source": [
    "\n",
    "soup = BeautifulSoup(page.content, 'html.parser')\n",
    "\n",
    "instructor = soup.title.string.strip()[23:]\n",
    "tr = soup.find_all('tr')\n",
    "\n",
    "numofClasses = len(tr[1:])\n",
    "new=[]\n",
    "\n",
    "classCredit = 0\n",
    "for r in tr[1:]:\n",
    "    second = soup.findAll('td')[2].contents\n",
    "    for s in second:\n",
    "        classCredit = classCredit + int(s)\n",
    "        \n",
    "classCredit\n",
    "print(instructor, \"is teaching\", numofClasses, \"courses (\", classCredit, \")\")"
   ]
  },
  {
   "cell_type": "code",
   "execution_count": 4,
   "metadata": {},
   "outputs": [
    {
     "data": {
      "text/plain": [
       "'2. Scrape the title and rating for 5 movies from IMDB, whose links are given below, and\\nconstruct a bar graph that shows the rating for each movie. Give your graph an\\ninformative title. '"
      ]
     },
     "execution_count": 4,
     "metadata": {},
     "output_type": "execute_result"
    }
   ],
   "source": [
    "\"\"\" Scrapes the title and rating for 5 movies from IMDB, and\n",
    "constructs a bar graph that shows the rating for each movie. \"\"\""
   ]
  },
  {
   "cell_type": "code",
   "execution_count": 7,
   "metadata": {},
   "outputs": [],
   "source": [
    "\n",
    "website = ['https://www.imdb.com/title/tt0109830/?ref_=fn_al_tt_1',\n",
    "           'https://www.imdb.com/title/tt0076759/?ref_=fn_tt_tt_1',\n",
    "           'https://www.imdb.com/title/tt0368226/?ref_=nv_sr_2',\n",
    "           'https://www.imdb.com/title/tt10545076/?ref_=nv_sr_srsg_0',\n",
    "           'https://www.imdb.com/title/tt3890160/?ref_=nv_sr_srsg_0'\n",
    "           ]\n",
    "movieName = []\n",
    "rate = []\n",
    "for a in website:\n",
    "    page = requests.get(a)\n",
    "\n",
    "    if page.status_code != requests.codes.ok :\n",
    "        print(\"Request was not successful, status code:\", page.status_code)\n",
    "        print(\"Hit enter to continue...\")\n",
    "        input()\n",
    "        exit()    \n",
    "    firstMovie = BeautifulSoup(page.content, 'html.parser')\n",
    "    movieName.append(firstMovie.title.string.strip()[0:-7])\n",
    "    rate.append(float(firstMovie.find('span',{'itemprop':'ratingValue'}).text))\n",
    "    time.sleep(1)\n",
    "\n"
   ]
  },
  {
   "cell_type": "code",
   "execution_count": 8,
   "metadata": {},
   "outputs": [
    {
     "data": {
      "text/plain": [
       "Text(0, 0.5, 'Rating (Out of 10)')"
      ]
     },
     "execution_count": 8,
     "metadata": {},
     "output_type": "execute_result"
    },
    {
     "data": {
      "image/png": "[encoded data removed]",
      "text/plain": [
       "<Figure size 432x288 with 1 Axes>"
      ]
     },
     "metadata": {
      "needs_background": "light"
     },
     "output_type": "display_data"
    }
   ],
   "source": [
    "#wait for process to finish. Then plot bargraph"
   ]
  },
  {
   "cell_type": "code",
   "execution_count": 14,
   "metadata": {},
   "outputs": [
    {
     "data": {
      "text/html": [
       "<div>\n",
       "<style scoped>\n",
       "    .dataframe tbody tr th:only-of-type {\n",
       "        vertical-align: middle;\n",
       "    }\n",
       "\n",
       "    .dataframe tbody tr th {\n",
       "        vertical-align: top;\n",
       "    }\n",
       "\n",
       "    .dataframe thead th {\n",
       "        text-align: right;\n",
       "    }\n",
       "</style>\n",
       "<table border=\"1\" class=\"dataframe\">\n",
       "  <thead>\n",
       "    <tr style=\"text-align: right;\">\n",
       "      <th></th>\n",
       "      <th>Movie_Name</th>\n",
       "      <th>Rating</th>\n",
       "    </tr>\n",
       "  </thead>\n",
       "  <tbody>\n",
       "    <tr>\n",
       "      <th>0</th>\n",
       "      <td>Forrest Gump (1994)</td>\n",
       "      <td>8.8</td>\n",
       "    </tr>\n",
       "    <tr>\n",
       "      <th>1</th>\n",
       "      <td>Star Wars: Episode IV - A New Hope (1977)</td>\n",
       "      <td>8.6</td>\n",
       "    </tr>\n",
       "    <tr>\n",
       "      <th>2</th>\n",
       "      <td>The Room (2003)</td>\n",
       "      <td>3.7</td>\n",
       "    </tr>\n",
       "    <tr>\n",
       "      <th>3</th>\n",
       "      <td>Bring The Soul: The Movie (2019)</td>\n",
       "      <td>7.9</td>\n",
       "    </tr>\n",
       "    <tr>\n",
       "      <th>4</th>\n",
       "      <td>Baby Driver (2017)</td>\n",
       "      <td>7.6</td>\n",
       "    </tr>\n",
       "  </tbody>\n",
       "</table>\n",
       "</div>"
      ],
      "text/plain": [
       "                                  Movie_Name  Rating\n",
       "0                        Forrest Gump (1994)     8.8\n",
       "1  Star Wars: Episode IV - A New Hope (1977)     8.6\n",
       "2                            The Room (2003)     3.7\n",
       "3           Bring The Soul: The Movie (2019)     7.9\n",
       "4                         Baby Driver (2017)     7.6"
      ]
     },
     "execution_count": 14,
     "metadata": {},
     "output_type": "execute_result"
    }
   ],
   "source": [
    "#create dataframe\n",
    "df= pd.DataFrame(data = {\"Movie_Name\":movieName, \"Rating\":rate})\n",
    "df"
   ]
  },
  {
   "cell_type": "code",
   "execution_count": 15,
   "metadata": {},
   "outputs": [
    {
     "data": {
      "text/plain": [
       "Text(0, 0.5, 'Rating (Out of 10)')"
      ]
     },
     "execution_count": 15,
     "metadata": {},
     "output_type": "execute_result"
    },
    {
     "data": {
      "image/png": "[encoded data removed]",
      "text/plain": [
       "<Figure size 432x288 with 1 Axes>"
      ]
     },
     "metadata": {
      "needs_background": "light"
     },
     "output_type": "display_data"
    }
   ],
   "source": [
    "plt = df.plot.bar(x = \"Movie_Name\", y = \"Rating\", \n",
    "            title = \"Movies with Interesting Rating out of 10\",\n",
    "            legend = False, rot = 0.0)\n",
    "\n",
    "plt.set_xlabel(\"Movie Names\")\n",
    "plt.set_ylabel(\"Rating (Out of 10)\")"
   ]
  },
  {
   "cell_type": "code",
   "execution_count": 33,
   "metadata": {},
   "outputs": [],
   "source": [
    "\"\"\"3. Indeed search \"\"\"\n",
    "pd.options.display.html.use_mathjax = False\n",
    "page = requests.get('https://www.indeed.com/jobs?q=video+game&l=Levittown%2C+PA')\n",
    "\n",
    "soup = BeautifulSoup(page.content, 'html.parser')\n",
    "pd.options.display.html.use_mathjax = False"
   ]
  },
  {
   "cell_type": "code",
   "execution_count": 28,
   "metadata": {},
   "outputs": [
    {
     "data": {
      "text/plain": [
       "['Retail Staff',\n",
       " 'PlayStation Representative - South New Jersey',\n",
       " 'Computer Science and Coding/Game Design Teacher',\n",
       " 'Writer',\n",
       " 'Instructors - STEM/ Technology Summer Camp',\n",
       " 'Team Member - Virtual Reality Gaming',\n",
       " 'STEM/ Technology Summer Camp Staff',\n",
       " 'Game Design Adjunct Instructor',\n",
       " 'Instructors and Camp Counselors for a Summer STEM Day Camp',\n",
       " 'Game Tender']"
      ]
     },
     "execution_count": 28,
     "metadata": {},
     "output_type": "execute_result"
    }
   ],
   "source": [
    "#job name\n",
    "jobs = []\n",
    "def job_title(soup): \n",
    "  for div in soup.find_all(name=\"div\", attrs={\"class\":\"row\"}):\n",
    "      for a in div.find_all(name=\"a\", attrs={\"data-tn-element\":\"jobTitle\"}):\n",
    "          jobs.append(a[\"title\"])\n",
    "  return(jobs)\n",
    "job_title(soup)\n"
   ]
  },
  {
   "cell_type": "code",
   "execution_count": 29,
   "metadata": {},
   "outputs": [
    {
     "data": {
      "text/plain": [
       "['GameStop',\n",
       " 'Sony Interactive Entertainment PlayStation',\n",
       " 'Spring Education Group',\n",
       " 'Hardcore Games',\n",
       " 'Black Rocket Productions',\n",
       " 'Hyperspace Gaming',\n",
       " 'Black Rocket Productions',\n",
       " 'Mercer County Community College',\n",
       " 'International Ivy Enrichment Programs',\n",
       " 'Thirsty Dice']"
      ]
     },
     "execution_count": 29,
     "metadata": {},
     "output_type": "execute_result"
    }
   ],
   "source": [
    "#company\n",
    "companies = []\n",
    "def find_company(soup): \n",
    "  for div in soup.find_all(name=\"div\", attrs={\"class\":\"row\"}):\n",
    "    company = div.find_all(name=\"span\", attrs={\"class\":\"company\"})\n",
    "    if len(company) > 0:\n",
    "      for b in company:\n",
    "          companies.append(b.text.strip())\n",
    "    else:\n",
    "      sec_try = div.find_all(name=\"span\", attrs={\"class\":\"result-link-source\"})\n",
    "      for span in sec_try:\n",
    "          companies.append(span.text.strip())\n",
    "  return(companies)\n",
    " \n",
    "find_company(soup)"
   ]
  },
  {
   "cell_type": "code",
   "execution_count": 30,
   "metadata": {},
   "outputs": [
    {
     "data": {
      "text/plain": [
       "['Fairless Hills, PA 19030',\n",
       " 'Cherry Hill, NJ',\n",
       " 'Philadelphia, PA',\n",
       " 'Philadelphia, PA 19123 (Northern Liberties area)',\n",
       " 'Langhorne, PA 19047',\n",
       " 'Township of Lawrence, NJ 08648',\n",
       " 'Newtown, PA 18940',\n",
       " 'Windsor, NJ',\n",
       " 'Burlington, NJ 08016',\n",
       " 'Philadelphia, PA 19130 (Spring Garden area)']"
      ]
     },
     "execution_count": 30,
     "metadata": {},
     "output_type": "execute_result"
    }
   ],
   "source": [
    "#location\n",
    "locations = []\n",
    "def find_location(soup): \n",
    "  spans = soup.findAll('span', attrs={'class': 'location'})\n",
    "  for span in spans:\n",
    "    locations.append(span.text)\n",
    "  return(locations)\n",
    "find_location(soup)\n"
   ]
  },
  {
   "cell_type": "code",
   "execution_count": 34,
   "metadata": {},
   "outputs": [
    {
     "data": {
      "text/plain": [
       "['?', '?', '?', '?', '?', '?', '?', '?', '?', '?']"
      ]
     },
     "execution_count": 34,
     "metadata": {},
     "output_type": "execute_result"
    }
   ],
   "source": [
    "\n",
    "#salary\n",
    "salaries = []\n",
    "def find_salary(soup): \n",
    "  for div in soup.find_all(name='div', attrs={'class':'row'}):\n",
    "    try:\n",
    "      salaries.append(div.find('nobr').text)\n",
    "    except:\n",
    "      try:\n",
    "        div_two = div.find(name='div', attrs={'class':'sjcl'})\n",
    "        div_three = div_two.find(name='span', attrs={'class': \"salaryText\"})\n",
    "        salaries.append(div_three.text.strip())\n",
    "      except:\n",
    "        salaries.append('?')\n",
    "  return(salaries)\n",
    "find_salary(soup)\n",
    "\n"
   ]
  },
  {
   "cell_type": "code",
   "execution_count": 35,
   "metadata": {},
   "outputs": [
    {
     "data": {
      "text/html": [
       "<div>\n",
       "<style scoped>\n",
       "    .dataframe tbody tr th:only-of-type {\n",
       "        vertical-align: middle;\n",
       "    }\n",
       "\n",
       "    .dataframe tbody tr th {\n",
       "        vertical-align: top;\n",
       "    }\n",
       "\n",
       "    .dataframe thead th {\n",
       "        text-align: right;\n",
       "    }\n",
       "</style>\n",
       "<table border=\"1\" class=\"dataframe tex2jax_ignore\">\n",
       "  <thead>\n",
       "    <tr style=\"text-align: right;\">\n",
       "      <th></th>\n",
       "      <th>Title</th>\n",
       "      <th>Company</th>\n",
       "      <th>Location</th>\n",
       "      <th>Salary</th>\n",
       "    </tr>\n",
       "  </thead>\n",
       "  <tbody>\n",
       "    <tr>\n",
       "      <th>0</th>\n",
       "      <td>Retail Staff</td>\n",
       "      <td>GameStop</td>\n",
       "      <td>Fairless Hills, PA 19030</td>\n",
       "      <td>?</td>\n",
       "    </tr>\n",
       "    <tr>\n",
       "      <th>1</th>\n",
       "      <td>PlayStation Representative - South New Jersey</td>\n",
       "      <td>Sony Interactive Entertainment PlayStation</td>\n",
       "      <td>Cherry Hill, NJ</td>\n",
       "      <td>?</td>\n",
       "    </tr>\n",
       "    <tr>\n",
       "      <th>2</th>\n",
       "      <td>Computer Science and Coding/Game Design Teacher</td>\n",
       "      <td>Spring Education Group</td>\n",
       "      <td>Philadelphia, PA</td>\n",
       "      <td>?</td>\n",
       "    </tr>\n",
       "    <tr>\n",
       "      <th>3</th>\n",
       "      <td>Writer</td>\n",
       "      <td>Hardcore Games</td>\n",
       "      <td>Philadelphia, PA 19123 (Northern Liberties area)</td>\n",
       "      <td>?</td>\n",
       "    </tr>\n",
       "    <tr>\n",
       "      <th>4</th>\n",
       "      <td>Instructors - STEM/ Technology Summer Camp</td>\n",
       "      <td>Black Rocket Productions</td>\n",
       "      <td>Langhorne, PA 19047</td>\n",
       "      <td>?</td>\n",
       "    </tr>\n",
       "    <tr>\n",
       "      <th>5</th>\n",
       "      <td>Team Member - Virtual Reality Gaming</td>\n",
       "      <td>Hyperspace Gaming</td>\n",
       "      <td>Township of Lawrence, NJ 08648</td>\n",
       "      <td>?</td>\n",
       "    </tr>\n",
       "    <tr>\n",
       "      <th>6</th>\n",
       "      <td>STEM/ Technology Summer Camp Staff</td>\n",
       "      <td>Black Rocket Productions</td>\n",
       "      <td>Newtown, PA 18940</td>\n",
       "      <td>?</td>\n",
       "    </tr>\n",
       "    <tr>\n",
       "      <th>7</th>\n",
       "      <td>Game Design Adjunct Instructor</td>\n",
       "      <td>Mercer County Community College</td>\n",
       "      <td>Windsor, NJ</td>\n",
       "      <td>?</td>\n",
       "    </tr>\n",
       "    <tr>\n",
       "      <th>8</th>\n",
       "      <td>Instructors and Camp Counselors for a Summer S...</td>\n",
       "      <td>International Ivy Enrichment Programs</td>\n",
       "      <td>Burlington, NJ 08016</td>\n",
       "      <td>?</td>\n",
       "    </tr>\n",
       "    <tr>\n",
       "      <th>9</th>\n",
       "      <td>Game Tender</td>\n",
       "      <td>Thirsty Dice</td>\n",
       "      <td>Philadelphia, PA 19130 (Spring Garden area)</td>\n",
       "      <td>?</td>\n",
       "    </tr>\n",
       "  </tbody>\n",
       "</table>\n",
       "</div>"
      ],
      "text/plain": [
       "                                               Title                                     Company                                          Location Salary\n",
       "0                                       Retail Staff                                    GameStop                          Fairless Hills, PA 19030      ?\n",
       "1      PlayStation Representative - South New Jersey  Sony Interactive Entertainment PlayStation                                   Cherry Hill, NJ      ?\n",
       "2    Computer Science and Coding/Game Design Teacher                      Spring Education Group                                  Philadelphia, PA      ?\n",
       "3                                             Writer                              Hardcore Games  Philadelphia, PA 19123 (Northern Liberties area)      ?\n",
       "4         Instructors - STEM/ Technology Summer Camp                    Black Rocket Productions                               Langhorne, PA 19047      ?\n",
       "5               Team Member - Virtual Reality Gaming                           Hyperspace Gaming                    Township of Lawrence, NJ 08648      ?\n",
       "6                 STEM/ Technology Summer Camp Staff                    Black Rocket Productions                                 Newtown, PA 18940      ?\n",
       "7                     Game Design Adjunct Instructor             Mercer County Community College                                       Windsor, NJ      ?\n",
       "8  Instructors and Camp Counselors for a Summer S...       International Ivy Enrichment Programs                              Burlington, NJ 08016      ?\n",
       "9                                        Game Tender                                Thirsty Dice       Philadelphia, PA 19130 (Spring Garden area)      ?"
      ]
     },
     "execution_count": 35,
     "metadata": {},
     "output_type": "execute_result"
    }
   ],
   "source": [
    "df= pd.DataFrame(data = {\"Title\":jobs, \"Company\":companies, \"Location\":locations,\"Salary\":salaries})\n",
    "df"
   ]
  },
  {
   "cell_type": "code",
   "execution_count": null,
   "metadata": {},
   "outputs": [],
   "source": []
  },
  {
   "cell_type": "code",
   "execution_count": null,
   "metadata": {},
   "outputs": [],
   "source": []
  }
 ],
 "metadata": {
  "kernelspec": {
   "display_name": "Python 3",
   "language": "python",
   "name": "python3"
  },
  "language_info": {
   "codemirror_mode": {
    "name": "ipython",
    "version": 3
   },
   "file_extension": ".py",
   "mimetype": "text/x-python",
   "name": "python",
   "nbconvert_exporter": "python",
   "pygments_lexer": "ipython3",
   "version": "3.7.3"
  }
 },
 "nbformat": 4,
 "nbformat_minor": 2
}
